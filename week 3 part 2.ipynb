{
    "cells": [
        {
            "cell_type": "code",
            "execution_count": 1,
            "metadata": {},
            "outputs": [
                {
                    "name": "stdout",
                    "output_type": "stream",
                    "text": "/opt/conda/envs/Python-3.7-OpenCE/lib/python3.7/site-packages/secretstorage/dhcrypto.py:16: CryptographyDeprecationWarning: int_from_bytes is deprecated, use int.from_bytes instead\n  from cryptography.utils import int_from_bytes\n/opt/conda/envs/Python-3.7-OpenCE/lib/python3.7/site-packages/secretstorage/util.py:25: CryptographyDeprecationWarning: int_from_bytes is deprecated, use int.from_bytes instead\n  from cryptography.utils import int_from_bytes\nCollecting geocoder\n  Downloading geocoder-1.38.1-py2.py3-none-any.whl (98 kB)\n\u001b[K     |\u2588\u2588\u2588\u2588\u2588\u2588\u2588\u2588\u2588\u2588\u2588\u2588\u2588\u2588\u2588\u2588\u2588\u2588\u2588\u2588\u2588\u2588\u2588\u2588\u2588\u2588\u2588\u2588\u2588\u2588\u2588\u2588| 98 kB 9.8 MB/s  eta 0:00:01\n\u001b[?25hRequirement already satisfied: future in /opt/conda/envs/Python-3.7-OpenCE/lib/python3.7/site-packages (from geocoder) (0.18.2)\nRequirement already satisfied: six in /opt/conda/envs/Python-3.7-OpenCE/lib/python3.7/site-packages (from geocoder) (1.15.0)\nCollecting ratelim\n  Downloading ratelim-0.1.6-py2.py3-none-any.whl (4.0 kB)\nRequirement already satisfied: requests in /opt/conda/envs/Python-3.7-OpenCE/lib/python3.7/site-packages (from geocoder) (2.22.0)\nRequirement already satisfied: click in /opt/conda/envs/Python-3.7-OpenCE/lib/python3.7/site-packages (from geocoder) (7.0)\nRequirement already satisfied: decorator in /opt/conda/envs/Python-3.7-OpenCE/lib/python3.7/site-packages (from ratelim->geocoder) (4.4.2)\nRequirement already satisfied: chardet<3.1.0,>=3.0.2 in /opt/conda/envs/Python-3.7-OpenCE/lib/python3.7/site-packages (from requests->geocoder) (3.0.4)\nRequirement already satisfied: idna<2.9,>=2.5 in /opt/conda/envs/Python-3.7-OpenCE/lib/python3.7/site-packages (from requests->geocoder) (2.8)\nRequirement already satisfied: certifi>=2017.4.17 in /opt/conda/envs/Python-3.7-OpenCE/lib/python3.7/site-packages (from requests->geocoder) (2021.5.30)\nRequirement already satisfied: urllib3!=1.25.0,!=1.25.1,<1.26,>=1.21.1 in /opt/conda/envs/Python-3.7-OpenCE/lib/python3.7/site-packages (from requests->geocoder) (1.25.9)\nInstalling collected packages: ratelim, geocoder\nSuccessfully installed geocoder-1.38.1 ratelim-0.1.6\n"
                }
            ],
            "source": "!pip install geocoder"
        },
        {
            "cell_type": "code",
            "execution_count": 2,
            "metadata": {},
            "outputs": [
                {
                    "name": "stdout",
                    "output_type": "stream",
                    "text": "Imported!\n"
                }
            ],
            "source": "import pandas as pd\nimport numpy as np\nimport geocoder\nprint(\"Imported!\")"
        },
        {
            "cell_type": "code",
            "execution_count": 3,
            "metadata": {},
            "outputs": [
                {
                    "data": {
                        "text/html": "<div>\n<style scoped>\n    .dataframe tbody tr th:only-of-type {\n        vertical-align: middle;\n    }\n\n    .dataframe tbody tr th {\n        vertical-align: top;\n    }\n\n    .dataframe thead th {\n        text-align: right;\n    }\n</style>\n<table border=\"1\" class=\"dataframe\">\n  <thead>\n    <tr style=\"text-align: right;\">\n      <th></th>\n      <th>Postalcode</th>\n      <th>Borough</th>\n      <th>Neighborhood</th>\n    </tr>\n  </thead>\n  <tbody>\n    <tr>\n      <th>0</th>\n      <td>\\nM1ANot assigned\\n\\n</td>\n      <td>\\nM2ANot assigned\\n\\n</td>\n      <td>M9AEtobicoke(Islington Avenue)</td>\n    </tr>\n    <tr>\n      <th>1</th>\n      <td>\\nM1BScarborough(Malvern / Rouge)\\n\\n</td>\n      <td>\\nM2BNot assigned\\n\\n</td>\n      <td>M9BEtobicoke(West Deane Park / Princess Garden...</td>\n    </tr>\n    <tr>\n      <th>2</th>\n      <td>\\nM1CScarborough(Rouge Hill / Port Union / Hig...</td>\n      <td>\\nM2CNot assigned\\n\\n</td>\n      <td>M9CEtobicoke(Eringate / Bloordale Gardens / Ol...</td>\n    </tr>\n    <tr>\n      <th>3</th>\n      <td>\\nM1EScarborough(Guildwood / Morningside / Wes...</td>\n      <td>\\nM2ENot assigned\\n\\n</td>\n      <td>M9ENot assigned</td>\n    </tr>\n    <tr>\n      <th>4</th>\n      <td>\\nM1GScarborough(Woburn)\\n\\n</td>\n      <td>\\nM2GNot assigned\\n\\n</td>\n      <td>M9GNot assigned</td>\n    </tr>\n  </tbody>\n</table>\n</div>",
                        "text/plain": "                                          Postalcode                Borough  \\\n0                              \\nM1ANot assigned\\n\\n  \\nM2ANot assigned\\n\\n   \n1              \\nM1BScarborough(Malvern / Rouge)\\n\\n  \\nM2BNot assigned\\n\\n   \n2  \\nM1CScarborough(Rouge Hill / Port Union / Hig...  \\nM2CNot assigned\\n\\n   \n3  \\nM1EScarborough(Guildwood / Morningside / Wes...  \\nM2ENot assigned\\n\\n   \n4                       \\nM1GScarborough(Woburn)\\n\\n  \\nM2GNot assigned\\n\\n   \n\n                                        Neighborhood  \n0                     M9AEtobicoke(Islington Avenue)  \n1  M9BEtobicoke(West Deane Park / Princess Garden...  \n2  M9CEtobicoke(Eringate / Bloordale Gardens / Ol...  \n3                                    M9ENot assigned  \n4                                    M9GNot assigned  "
                    },
                    "execution_count": 3,
                    "metadata": {},
                    "output_type": "execute_result"
                }
            ],
            "source": "df = pd.read_csv('toronto.csv')\ndf.head()"
        },
        {
            "cell_type": "code",
            "execution_count": 4,
            "metadata": {},
            "outputs": [
                {
                    "name": "stdout",
                    "output_type": "stream",
                    "text": "(20, 3)\n"
                },
                {
                    "data": {
                        "text/html": "<div>\n<style scoped>\n    .dataframe tbody tr th:only-of-type {\n        vertical-align: middle;\n    }\n\n    .dataframe tbody tr th {\n        vertical-align: top;\n    }\n\n    .dataframe thead th {\n        text-align: right;\n    }\n</style>\n<table border=\"1\" class=\"dataframe\">\n  <thead>\n    <tr style=\"text-align: right;\">\n      <th></th>\n      <th>Postalcode</th>\n      <th>Borough</th>\n      <th>Neighborhood</th>\n    </tr>\n  </thead>\n  <tbody>\n    <tr>\n      <th>count</th>\n      <td>20</td>\n      <td>20</td>\n      <td>20</td>\n    </tr>\n    <tr>\n      <th>unique</th>\n      <td>20</td>\n      <td>20</td>\n      <td>20</td>\n    </tr>\n    <tr>\n      <th>top</th>\n      <td>\\nM1ANot assigned\\n\\n</td>\n      <td>\\nM2CNot assigned\\n\\n</td>\n      <td>M9SNot assigned</td>\n    </tr>\n    <tr>\n      <th>freq</th>\n      <td>1</td>\n      <td>1</td>\n      <td>1</td>\n    </tr>\n  </tbody>\n</table>\n</div>",
                        "text/plain": "                   Postalcode                Borough     Neighborhood\ncount                      20                     20               20\nunique                     20                     20               20\ntop     \\nM1ANot assigned\\n\\n  \\nM2CNot assigned\\n\\n  M9SNot assigned\nfreq                        1                      1                1"
                    },
                    "execution_count": 4,
                    "metadata": {},
                    "output_type": "execute_result"
                }
            ],
            "source": "print(df.shape)\ndf.describe()"
        },
        {
            "cell_type": "code",
            "execution_count": 5,
            "metadata": {},
            "outputs": [
                {
                    "data": {
                        "text/plain": "[43.709020000000066, -79.36348999999996]"
                    },
                    "execution_count": 5,
                    "metadata": {},
                    "output_type": "execute_result"
                }
            ],
            "source": "def get_latilong(postal_code):\n    lati_long_coords = None\n    while(lati_long_coords is None):\n        g = geocoder.arcgis('{}, Toronto, Ontario'.format(postal_code))\n        lati_long_coords = g.latlng\n    return lati_long_coords\n    \nget_latilong('M4G')"
        },
        {
            "cell_type": "code",
            "execution_count": 6,
            "metadata": {},
            "outputs": [],
            "source": "# Retrieving Postal Code Co-ordinates\npostal_codes = df['Postalcode']    \ncoords = [ get_latilong(postal_code) for postal_code in postal_codes.tolist() ]"
        },
        {
            "cell_type": "code",
            "execution_count": 7,
            "metadata": {},
            "outputs": [],
            "source": "# Adding Columns Latitude & Longitude\ndf_coords = pd.DataFrame(coords, columns=['Latitude', 'Longitude'])\ndf['Latitude'] = df_coords['Latitude']\ndf['Longitude'] = df_coords['Longitude']"
        },
        {
            "cell_type": "code",
            "execution_count": 8,
            "metadata": {},
            "outputs": [
                {
                    "data": {
                        "text/html": "<div>\n<style scoped>\n    .dataframe tbody tr th:only-of-type {\n        vertical-align: middle;\n    }\n\n    .dataframe tbody tr th {\n        vertical-align: top;\n    }\n\n    .dataframe thead th {\n        text-align: right;\n    }\n</style>\n<table border=\"1\" class=\"dataframe\">\n  <thead>\n    <tr style=\"text-align: right;\">\n      <th></th>\n      <th>Postalcode</th>\n      <th>Borough</th>\n      <th>Neighborhood</th>\n      <th>Latitude</th>\n      <th>Longitude</th>\n    </tr>\n  </thead>\n  <tbody>\n  </tbody>\n</table>\n</div>",
                        "text/plain": "Empty DataFrame\nColumns: [Postalcode, Borough, Neighborhood, Latitude, Longitude]\nIndex: []"
                    },
                    "execution_count": 8,
                    "metadata": {},
                    "output_type": "execute_result"
                }
            ],
            "source": "df[df.Postalcode == 'M5G']"
        },
        {
            "cell_type": "code",
            "execution_count": 9,
            "metadata": {},
            "outputs": [
                {
                    "data": {
                        "text/html": "<div>\n<style scoped>\n    .dataframe tbody tr th:only-of-type {\n        vertical-align: middle;\n    }\n\n    .dataframe tbody tr th {\n        vertical-align: top;\n    }\n\n    .dataframe thead th {\n        text-align: right;\n    }\n</style>\n<table border=\"1\" class=\"dataframe\">\n  <thead>\n    <tr style=\"text-align: right;\">\n      <th></th>\n      <th>Postalcode</th>\n      <th>Borough</th>\n      <th>Neighborhood</th>\n      <th>Latitude</th>\n      <th>Longitude</th>\n    </tr>\n  </thead>\n  <tbody>\n    <tr>\n      <th>0</th>\n      <td>\\nM1ANot assigned\\n\\n</td>\n      <td>\\nM2ANot assigned\\n\\n</td>\n      <td>M9AEtobicoke(Islington Avenue)</td>\n      <td>43.648690</td>\n      <td>-79.385440</td>\n    </tr>\n    <tr>\n      <th>1</th>\n      <td>\\nM1BScarborough(Malvern / Rouge)\\n\\n</td>\n      <td>\\nM2BNot assigned\\n\\n</td>\n      <td>M9BEtobicoke(West Deane Park / Princess Garden...</td>\n      <td>43.810230</td>\n      <td>-79.220380</td>\n    </tr>\n    <tr>\n      <th>2</th>\n      <td>\\nM1CScarborough(Rouge Hill / Port Union / Hig...</td>\n      <td>\\nM2CNot assigned\\n\\n</td>\n      <td>M9CEtobicoke(Eringate / Bloordale Gardens / Ol...</td>\n      <td>43.789480</td>\n      <td>-79.176140</td>\n    </tr>\n    <tr>\n      <th>3</th>\n      <td>\\nM1EScarborough(Guildwood / Morningside / Wes...</td>\n      <td>\\nM2ENot assigned\\n\\n</td>\n      <td>M9ENot assigned</td>\n      <td>43.763430</td>\n      <td>-79.178200</td>\n    </tr>\n    <tr>\n      <th>4</th>\n      <td>\\nM1GScarborough(Woburn)\\n\\n</td>\n      <td>\\nM2GNot assigned\\n\\n</td>\n      <td>M9GNot assigned</td>\n      <td>43.767480</td>\n      <td>-79.228290</td>\n    </tr>\n    <tr>\n      <th>5</th>\n      <td>\\nM1HScarborough(Cedarbrae)\\n\\n</td>\n      <td>\\nM2HNorth York(Hillcrest Village)\\n\\n</td>\n      <td>M9HNot assigned</td>\n      <td>43.741672</td>\n      <td>-79.232538</td>\n    </tr>\n    <tr>\n      <th>6</th>\n      <td>\\nM1JScarborough(Scarborough Village)\\n\\n</td>\n      <td>\\nM2JNorth York(Fairview / Henry Farm / Oriole...</td>\n      <td>M9JNot assigned</td>\n      <td>43.738650</td>\n      <td>-79.216990</td>\n    </tr>\n    <tr>\n      <th>7</th>\n      <td>\\nM1KScarborough(Kennedy Park / Ionview / East...</td>\n      <td>\\nM2KNorth York(Bayview Village)\\n\\n</td>\n      <td>M9KNot assigned</td>\n      <td>43.648690</td>\n      <td>-79.385440</td>\n    </tr>\n    <tr>\n      <th>8</th>\n      <td>\\nM1LScarborough(Golden Mile / Clairlea / Oakr...</td>\n      <td>\\nM2LNorth York(York Mills / Silver Hills)\\n\\n</td>\n      <td>M9LNorth York(Humber Summit)</td>\n      <td>43.698830</td>\n      <td>-79.279120</td>\n    </tr>\n    <tr>\n      <th>9</th>\n      <td>\\nM1MScarborough(Cliffside / Cliffcrest / Scar...</td>\n      <td>\\nM2MNorth York(Willowdale / Newtonbrook)\\n\\n</td>\n      <td>M9MNorth York(Humberlea / Emery)</td>\n      <td>43.726420</td>\n      <td>-79.232970</td>\n    </tr>\n    <tr>\n      <th>10</th>\n      <td>\\nM1NScarborough(Birch Cliff / Cliffside West)...</td>\n      <td>\\nM2NNorth York(Willowdale)South\\n\\n</td>\n      <td>M9NYork(Weston)</td>\n      <td>43.694720</td>\n      <td>-79.264600</td>\n    </tr>\n    <tr>\n      <th>11</th>\n      <td>\\nM1PScarborough(Dorset Park / Wexford Heights...</td>\n      <td>\\nM2PNorth York(York Mills West)\\n\\n</td>\n      <td>M9PEtobicoke(Westmount)</td>\n      <td>43.735430</td>\n      <td>-79.297550</td>\n    </tr>\n    <tr>\n      <th>12</th>\n      <td>\\nM1RScarborough(Wexford / Maryvale)\\n\\n</td>\n      <td>\\nM2RNorth York(Willowdale)West\\n\\n</td>\n      <td>M9REtobicoke(Kingsview Village / St. Phillips ...</td>\n      <td>43.748600</td>\n      <td>-79.298020</td>\n    </tr>\n    <tr>\n      <th>13</th>\n      <td>\\nM1SScarborough(Agincourt) \\n\\n</td>\n      <td>\\nM2SNot assigned\\n\\n</td>\n      <td>M9SNot assigned</td>\n      <td>43.786260</td>\n      <td>-79.280840</td>\n    </tr>\n    <tr>\n      <th>14</th>\n      <td>\\nM1TScarborough(Clarks Corners / Tam O'Shante...</td>\n      <td>\\nM2TNot assigned\\n\\n</td>\n      <td>M9TNot assigned</td>\n      <td>43.786430</td>\n      <td>-79.301560</td>\n    </tr>\n  </tbody>\n</table>\n</div>",
                        "text/plain": "                                           Postalcode  \\\n0                               \\nM1ANot assigned\\n\\n   \n1               \\nM1BScarborough(Malvern / Rouge)\\n\\n   \n2   \\nM1CScarborough(Rouge Hill / Port Union / Hig...   \n3   \\nM1EScarborough(Guildwood / Morningside / Wes...   \n4                        \\nM1GScarborough(Woburn)\\n\\n   \n5                     \\nM1HScarborough(Cedarbrae)\\n\\n   \n6           \\nM1JScarborough(Scarborough Village)\\n\\n   \n7   \\nM1KScarborough(Kennedy Park / Ionview / East...   \n8   \\nM1LScarborough(Golden Mile / Clairlea / Oakr...   \n9   \\nM1MScarborough(Cliffside / Cliffcrest / Scar...   \n10  \\nM1NScarborough(Birch Cliff / Cliffside West)...   \n11  \\nM1PScarborough(Dorset Park / Wexford Heights...   \n12           \\nM1RScarborough(Wexford / Maryvale)\\n\\n   \n13                   \\nM1SScarborough(Agincourt) \\n\\n   \n14  \\nM1TScarborough(Clarks Corners / Tam O'Shante...   \n\n                                              Borough  \\\n0                               \\nM2ANot assigned\\n\\n   \n1                               \\nM2BNot assigned\\n\\n   \n2                               \\nM2CNot assigned\\n\\n   \n3                               \\nM2ENot assigned\\n\\n   \n4                               \\nM2GNot assigned\\n\\n   \n5              \\nM2HNorth York(Hillcrest Village)\\n\\n   \n6   \\nM2JNorth York(Fairview / Henry Farm / Oriole...   \n7                \\nM2KNorth York(Bayview Village)\\n\\n   \n8      \\nM2LNorth York(York Mills / Silver Hills)\\n\\n   \n9       \\nM2MNorth York(Willowdale / Newtonbrook)\\n\\n   \n10               \\nM2NNorth York(Willowdale)South\\n\\n   \n11               \\nM2PNorth York(York Mills West)\\n\\n   \n12                \\nM2RNorth York(Willowdale)West\\n\\n   \n13                              \\nM2SNot assigned\\n\\n   \n14                              \\nM2TNot assigned\\n\\n   \n\n                                         Neighborhood   Latitude  Longitude  \n0                      M9AEtobicoke(Islington Avenue)  43.648690 -79.385440  \n1   M9BEtobicoke(West Deane Park / Princess Garden...  43.810230 -79.220380  \n2   M9CEtobicoke(Eringate / Bloordale Gardens / Ol...  43.789480 -79.176140  \n3                                     M9ENot assigned  43.763430 -79.178200  \n4                                     M9GNot assigned  43.767480 -79.228290  \n5                                     M9HNot assigned  43.741672 -79.232538  \n6                                     M9JNot assigned  43.738650 -79.216990  \n7                                     M9KNot assigned  43.648690 -79.385440  \n8                        M9LNorth York(Humber Summit)  43.698830 -79.279120  \n9                    M9MNorth York(Humberlea / Emery)  43.726420 -79.232970  \n10                                    M9NYork(Weston)  43.694720 -79.264600  \n11                            M9PEtobicoke(Westmount)  43.735430 -79.297550  \n12  M9REtobicoke(Kingsview Village / St. Phillips ...  43.748600 -79.298020  \n13                                    M9SNot assigned  43.786260 -79.280840  \n14                                    M9TNot assigned  43.786430 -79.301560  "
                    },
                    "execution_count": 9,
                    "metadata": {},
                    "output_type": "execute_result"
                }
            ],
            "source": "df.head(15)"
        },
        {
            "cell_type": "code",
            "execution_count": 10,
            "metadata": {},
            "outputs": [],
            "source": "df.to_csv('toronto_part2.csv',index=False)\n"
        },
        {
            "cell_type": "code",
            "execution_count": null,
            "metadata": {},
            "outputs": [],
            "source": ""
        }
    ],
    "metadata": {
        "kernelspec": {
            "display_name": "Python 3.7",
            "language": "python",
            "name": "python3"
        },
        "language_info": {
            "codemirror_mode": {
                "name": "ipython",
                "version": 3
            },
            "file_extension": ".py",
            "mimetype": "text/x-python",
            "name": "python",
            "nbconvert_exporter": "python",
            "pygments_lexer": "ipython3",
            "version": "3.7.10"
        }
    },
    "nbformat": 4,
    "nbformat_minor": 1
}